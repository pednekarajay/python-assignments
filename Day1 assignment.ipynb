{
 "cells": [
  {
   "cell_type": "markdown",
   "metadata": {},
   "source": [
    "Q1 What is Python? What are the ways to install python in PC?\n",
    "Ans:\n",
    "Python is a programming language that was developed by Guido Van Rossum in 1991, marketed by Google.\n",
    "Python has an easy syntax, requires less amount of coding, and has a large number of libraries.\n",
    "Python is an interpreted, high-level, general-purpose programming language\n",
    "There are many ways to install python in PC:\n",
    "1. Can directly download the installation package from Python.org\n",
    "2. Download IDE based python which has in-built libraries such as Anaconda distribution which has several in-built libraries\n",
    "3. Various other IDEs are available.\n",
    "\n",
    "Q2 What are the Code Environments? and its Types.\n",
    "Ans:\n",
    "A code environment is a platform that consists of equipment that can be used for scripting codes, execution, developing, or testing the software.\n",
    "Environments are independent: you can install different packages or different versions of packages in different environments without interaction between them.\n",
    "\n",
    "There are 3 types of environments:\n",
    "Text Editors:\n",
    "In this programmer can write and modify the code only. These are general text editors.\n",
    "e.g Notepad, Visual Studio Code etc,...\n",
    "*Integrated Development Environment\n",
    "All the essential tools are installed for automating the programmer's tasks like file management, selections, debug, integrations, and deployments.\n",
    "e.g PyCharm, Spyder, etc,.\n",
    "Notebook Environment:\n",
    "Ex in Jupyter Notebook we give an input and get the output of the code.\n",
    "We can download files as .py and also in other formats."
   ]
  }
 ],
 "metadata": {
  "kernelspec": {
   "display_name": "Python 3",
   "language": "python",
   "name": "python3"
  },
  "language_info": {
   "codemirror_mode": {
    "name": "ipython",
    "version": 3
   },
   "file_extension": ".py",
   "mimetype": "text/x-python",
   "name": "python",
   "nbconvert_exporter": "python",
   "pygments_lexer": "ipython3",
   "version": "3.7.4"
  }
 },
 "nbformat": 4,
 "nbformat_minor": 2
}
