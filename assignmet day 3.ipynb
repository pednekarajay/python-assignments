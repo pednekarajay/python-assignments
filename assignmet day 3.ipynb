{
 "cells": [
  {
   "cell_type": "code",
   "execution_count": 12,
   "metadata": {},
   "outputs": [
    {
     "name": "stdout",
     "output_type": "stream",
     "text": [
      "The sum is 1\n",
      "The sum is 3\n",
      "The sum is 6\n",
      "The sum is 10\n",
      "The sum is 15\n",
      "The sum is 21\n",
      "The sum is 28\n",
      "The sum is 36\n",
      "The sum is 45\n",
      "The sum is 55\n"
     ]
    }
   ],
   "source": [
    "# write a program to sum of n numbers\n",
    "n = 10\n",
    "sum = 0\n",
    "i = 1\n",
    "while i <= n:\n",
    "        sum = sum + i\n",
    "        i = i+1\n",
    "        print(\"The sum is\", sum)\n"
   ]
  },
  {
   "cell_type": "markdown",
   "metadata": {},
   "source": [
    "n = 10\n",
    "sum = 0\n",
    "i = 1\n",
    "while i <= n:\n",
    "        sum = sum + i\n",
    "        i = i+1\n",
    "        print(\"The sum is\", sum)"
   ]
  },
  {
   "cell_type": "code",
   "execution_count": 11,
   "metadata": {},
   "outputs": [],
   "source": [
    "# wap to check no. is prime or not"
   ]
  },
  {
   "cell_type": "code",
   "execution_count": 18,
   "metadata": {},
   "outputs": [
    {
     "name": "stdout",
     "output_type": "stream",
     "text": [
      "12 is not a prime number\n",
      "2 times 6 is 12\n"
     ]
    }
   ],
   "source": [
    "num = 12\n",
    "if num > 1:\n",
    "    for i in range(2,num):\n",
    "        if (num%i)==0:\n",
    "            print(num, \"is not a prime number\")\n",
    "            print(i, \"times\", num//i,\"is\",num)\n",
    "            break\n",
    "        else:\n",
    "            print(num,\"is a prime number\" )\n",
    "            break\n",
    "        \n",
    "    else:\n",
    "        print(num, \"is not a prime number\")"
   ]
  },
  {
   "cell_type": "code",
   "execution_count": null,
   "metadata": {},
   "outputs": [],
   "source": []
  }
 ],
 "metadata": {
  "kernelspec": {
   "display_name": "Python 3",
   "language": "python",
   "name": "python3"
  },
  "language_info": {
   "codemirror_mode": {
    "name": "ipython",
    "version": 3
   },
   "file_extension": ".py",
   "mimetype": "text/x-python",
   "name": "python",
   "nbconvert_exporter": "python",
   "pygments_lexer": "ipython3",
   "version": "3.7.4"
  }
 },
 "nbformat": 4,
 "nbformat_minor": 2
}
